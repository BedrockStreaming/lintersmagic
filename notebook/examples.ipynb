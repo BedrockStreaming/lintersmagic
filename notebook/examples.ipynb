{
 "cells": [
  {
   "cell_type": "code",
   "execution_count": 1,
   "metadata": {
    "application/vnd.databricks.v1+cell": {
     "inputWidgets": {},
     "nuid": "d3942e78-826b-4937-a2e2-9051131d16cc",
     "showTitle": false,
     "title": ""
    }
   },
   "outputs": [
    {
     "name": "stdout",
     "output_type": "stream",
     "text": [
      "Processing /home/nastasia/projects/lintersmagic/dist/lintersmagic-0.1.0-py3-none-any.whl\n",
      "Requirement already satisfied: pycodestyle==2.8.0 in /home/nastasia/.cache/pypoetry/virtualenvs/lintersmagic-Ue8WY_0y-py3.8/lib/python3.8/site-packages (from lintersmagic==0.1.0) (2.8.0)\n",
      "Requirement already satisfied: ipython==7.17 in /home/nastasia/.cache/pypoetry/virtualenvs/lintersmagic-Ue8WY_0y-py3.8/lib/python3.8/site-packages (from lintersmagic==0.1.0) (7.17.0)\n",
      "Requirement already satisfied: pickleshare in /home/nastasia/.cache/pypoetry/virtualenvs/lintersmagic-Ue8WY_0y-py3.8/lib/python3.8/site-packages (from ipython==7.17->lintersmagic==0.1.0) (0.7.5)\n",
      "Requirement already satisfied: prompt-toolkit!=3.0.0,!=3.0.1,<3.1.0,>=2.0.0 in /home/nastasia/.cache/pypoetry/virtualenvs/lintersmagic-Ue8WY_0y-py3.8/lib/python3.8/site-packages (from ipython==7.17->lintersmagic==0.1.0) (3.0.28)\n",
      "Requirement already satisfied: backcall in /home/nastasia/.cache/pypoetry/virtualenvs/lintersmagic-Ue8WY_0y-py3.8/lib/python3.8/site-packages (from ipython==7.17->lintersmagic==0.1.0) (0.2.0)\n",
      "Requirement already satisfied: decorator in /home/nastasia/.cache/pypoetry/virtualenvs/lintersmagic-Ue8WY_0y-py3.8/lib/python3.8/site-packages (from ipython==7.17->lintersmagic==0.1.0) (5.1.1)\n",
      "Requirement already satisfied: pygments in /home/nastasia/.cache/pypoetry/virtualenvs/lintersmagic-Ue8WY_0y-py3.8/lib/python3.8/site-packages (from ipython==7.17->lintersmagic==0.1.0) (2.11.2)\n",
      "Requirement already satisfied: pexpect in /home/nastasia/.cache/pypoetry/virtualenvs/lintersmagic-Ue8WY_0y-py3.8/lib/python3.8/site-packages (from ipython==7.17->lintersmagic==0.1.0) (4.8.0)\n",
      "Requirement already satisfied: jedi>=0.10 in /home/nastasia/.cache/pypoetry/virtualenvs/lintersmagic-Ue8WY_0y-py3.8/lib/python3.8/site-packages (from ipython==7.17->lintersmagic==0.1.0) (0.18.1)\n",
      "Requirement already satisfied: traitlets>=4.2 in /home/nastasia/.cache/pypoetry/virtualenvs/lintersmagic-Ue8WY_0y-py3.8/lib/python3.8/site-packages (from ipython==7.17->lintersmagic==0.1.0) (5.1.1)\n",
      "Requirement already satisfied: setuptools>=18.5 in /home/nastasia/.cache/pypoetry/virtualenvs/lintersmagic-Ue8WY_0y-py3.8/lib/python3.8/site-packages (from ipython==7.17->lintersmagic==0.1.0) (57.0.0)\n",
      "Requirement already satisfied: parso<0.9.0,>=0.8.0 in /home/nastasia/.cache/pypoetry/virtualenvs/lintersmagic-Ue8WY_0y-py3.8/lib/python3.8/site-packages (from jedi>=0.10->ipython==7.17->lintersmagic==0.1.0) (0.8.3)\n",
      "Requirement already satisfied: wcwidth in /home/nastasia/.cache/pypoetry/virtualenvs/lintersmagic-Ue8WY_0y-py3.8/lib/python3.8/site-packages (from prompt-toolkit!=3.0.0,!=3.0.1,<3.1.0,>=2.0.0->ipython==7.17->lintersmagic==0.1.0) (0.2.5)\n",
      "Requirement already satisfied: ptyprocess>=0.5 in /home/nastasia/.cache/pypoetry/virtualenvs/lintersmagic-Ue8WY_0y-py3.8/lib/python3.8/site-packages (from pexpect->ipython==7.17->lintersmagic==0.1.0) (0.7.0)\n",
      "lintersmagic is already installed with the same version as the provided wheel. Use --force-reinstall to force an installation of the wheel.\n",
      "\u001b[33mWARNING: You are using pip version 21.1.2; however, version 22.0.4 is available.\n",
      "You should consider upgrading via the '/home/nastasia/.cache/pypoetry/virtualenvs/lintersmagic-Ue8WY_0y-py3.8/bin/python -m pip install --upgrade pip' command.\u001b[0m\n",
      "Note: you may need to restart the kernel to use updated packages.\n"
     ]
    }
   ],
   "source": [
    "pip install ../dist/lintersmagic-0.1.0-py3-none-any.whl"
   ]
  },
  {
   "cell_type": "code",
   "execution_count": 2,
   "metadata": {},
   "outputs": [],
   "source": [
    "%load_ext lintersmagic"
   ]
  },
  {
   "cell_type": "code",
   "execution_count": 3,
   "metadata": {
    "application/vnd.databricks.v1+cell": {
     "inputWidgets": {},
     "nuid": "32e64d3d-baa9-40a1-b75d-93912c203d4c",
     "showTitle": false,
     "title": ""
    }
   },
   "outputs": [
    {
     "name": "stderr",
     "output_type": "stream",
     "text": [
      "WARNING:root:2:2: E225 missing whitespace around operator\n",
      "WARNING:root:2:80: E501 line too long (139 > 79 characters)\n",
      "WARNING:root:3:1: W391 blank line at end of file\n"
     ]
    }
   ],
   "source": [
    "%%pycodestyle \n",
    "a=\"aaaaaaaaaaaaaaaaaaaaaaaaaaaaaaaaaaaaaaaaaaaaaaaaaaaaaaaaaaaaaaaaaaaaaaaaaaaaaaaaaaaaaaaaaaaaaaaaaaaaaaaaaaaaaaaaaaaaaaaaaaaaaaaaaaaaaaa\""
   ]
  },
  {
   "cell_type": "code",
   "execution_count": 4,
   "metadata": {
    "application/vnd.databricks.v1+cell": {
     "inputWidgets": {},
     "nuid": "57503142-10c4-45e2-8e9c-746ad701d55c",
     "showTitle": false,
     "title": ""
    }
   },
   "outputs": [],
   "source": [
    "%pycodestyle_on"
   ]
  },
  {
   "cell_type": "code",
   "execution_count": 5,
   "metadata": {
    "application/vnd.databricks.v1+cell": {
     "inputWidgets": {},
     "nuid": "f121648d-515d-44ed-ae48-5b7ffd11124b",
     "showTitle": false,
     "title": ""
    }
   },
   "outputs": [
    {
     "name": "stderr",
     "output_type": "stream",
     "text": [
      "WARNING:root:2:2: E225 missing whitespace around operator\n",
      "WARNING:root:2:80: E501 line too long (139 > 79 characters)\n"
     ]
    }
   ],
   "source": [
    "a=\"aaaaaaaaaaaaaaaaaaaaaaaaaaaaaaaaaaaaaaaaaaaaaaaaaaaaaaaaaaaaaaaaaaaaaaaaaaaaaaaaaaaaaaaaaaaaaaaaaaaaaaaaaaaaaaaaaaaaaaaaaaaaaaaaaaaaaaa\""
   ]
  },
  {
   "cell_type": "code",
   "execution_count": 6,
   "metadata": {
    "application/vnd.databricks.v1+cell": {
     "inputWidgets": {},
     "nuid": "b347e113-f3cd-4441-b224-a5f8195c3df7",
     "showTitle": false,
     "title": ""
    }
   },
   "outputs": [],
   "source": [
    "%pycodestyle_off"
   ]
  },
  {
   "cell_type": "code",
   "execution_count": 7,
   "metadata": {
    "application/vnd.databricks.v1+cell": {
     "inputWidgets": {},
     "nuid": "6d5b699b-db84-4d51-82bb-c8f5a990bdbf",
     "showTitle": false,
     "title": ""
    }
   },
   "outputs": [],
   "source": [
    "%pycodestyle_on --ignore E225 --max_line_length 150"
   ]
  },
  {
   "cell_type": "code",
   "execution_count": 8,
   "metadata": {
    "application/vnd.databricks.v1+cell": {
     "inputWidgets": {},
     "nuid": "16b862f4-8724-4cc8-8e31-0ff1ccf7dfe0",
     "showTitle": false,
     "title": ""
    }
   },
   "outputs": [],
   "source": [
    "a=\"aaaaaaaaaaaaaaaaaaaaaaaaaaaaaaaaaaaaaaaaaaaaaaaaaaaaaaaaaaaaaaaaaaaaaaaaaaaaaaaaaaaaaaaaaaaaaaaaaaaaaaaaaaaaaaaaaaaaaaaaaaaaaaaaaaaaaaa\""
   ]
  },
  {
   "cell_type": "code",
   "execution_count": null,
   "metadata": {},
   "outputs": [],
   "source": []
  }
 ],
 "metadata": {
  "application/vnd.databricks.v1+notebook": {
   "dashboards": [],
   "language": "python",
   "notebookMetadata": {
    "pythonIndentUnit": 2
   },
   "notebookName": "trest",
   "notebookOrigID": 1717051137028478,
   "widgets": {}
  },
  "kernelspec": {
   "display_name": "Python 3",
   "language": "python",
   "name": "python3"
  },
  "language_info": {
   "codemirror_mode": {
    "name": "ipython",
    "version": 3
   },
   "file_extension": ".py",
   "mimetype": "text/x-python",
   "name": "python",
   "nbconvert_exporter": "python",
   "pygments_lexer": "ipython3",
   "version": "3.8.5"
  }
 },
 "nbformat": 4,
 "nbformat_minor": 1
}
